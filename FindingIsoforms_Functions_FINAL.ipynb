{
 "cells": [
  {
   "cell_type": "code",
   "execution_count": 24,
   "metadata": {
    "collapsed": true
   },
   "outputs": [],
   "source": [
    "import cmd\n",
    "import re\n",
    "import Bio\n",
    "from Bio import Entrez\n",
    "from Bio import Blast\n",
    "from Bio import SeqIO\n",
    "from Bio import AlignIO\n",
    "import json\n",
    "import textblob\n",
    "from textblob import TextBlob\n",
    "import nltk \n",
    "from nltk import word_tokenize\n",
    "import pylab\n",
    "from Bio import SeqIO\n",
    "from Bio import PDB\n",
    "import sys\n",
    "eutils=\"http://eutils.ncbi.nlm.nih.gov\"\n",
    "Entrez.email = 'rjliangiogenesis@gmail.com' \n"
   ]
  },
  {
   "cell_type": "code",
   "execution_count": 25,
   "metadata": {
    "collapsed": true
   },
   "outputs": [],
   "source": [
    "#set of functions for exploring biopython/getting protein CDS\n",
    "import Bio\n",
    "from Bio import Entrez\n",
    "from Bio import Blast\n",
    "from Bio import SeqIO\n",
    "from Bio import AlignIO\n",
    "\n",
    "def get_number_pubmed_queries(query): #input protein name and number of results returned, returns list of IDs for fetching\n",
    "        Entrez.email = 'rjliangiogenesis@gmail.com' \n",
    "        handle = Entrez.esearch(db='pubmed', \n",
    "                            sort='relevance', \n",
    "                            retmax=1000,  \n",
    "                            retmode='xml', \n",
    "                            term=query) \n",
    "        results = Entrez.read(handle) \n",
    "        return len(results[\"IdList\"])\n",
    "\n",
    "def get_IDs(query,number): #input protein name and number of results returned, returns list of IDs for fetching\n",
    "        Entrez.email = 'rjliangiogenesis@gmail.com' \n",
    "        handle = Entrez.esearch(db='protein', \n",
    "                            sort='relevance', \n",
    "                            retmax=number,  \n",
    "                            retmode='xml', \n",
    "                            term=query) \n",
    "        results = Entrez.read(handle) \n",
    "        return results[\"IdList\"] \n",
    "    \n",
    "def fetch_details(ids):   #input Ids from protsearchx, returns full documents including abstracts\n",
    "        Entrez.email = 'rjliangiogenesis@gmail.com' \n",
    "        handle = Entrez.efetch(db='protein', \n",
    "                           rettype='gp', #9.6 of biopython documentation\n",
    "                           retmode='xml', \n",
    "                           id=ids) \n",
    "        results = Entrez.read(handle) \n",
    "        return results\n",
    "\n",
    "    \n",
    "def isHuman(dictionary): #input list of dictionaries, returns boolean result\n",
    "        if dictionary['GBSeq_source']=='Homo sapiens (human)':\n",
    "            return True\n",
    "        else:\n",
    "            pass\n",
    "    \n",
    "def term_in_list(term, dictionaryList): #input string term + fetched document, return that term in each doc\n",
    "        for dictionary in dictionaryList: \n",
    "            if term in dictionary: \n",
    "                sequences.append(dictionary[term]) \n",
    "        return sequences\n",
    "    \n",
    "def dictCreate(index,b,c): #creates a dictionary from 3 inputs. order matters.\n",
    "        dictionary = dict(zip(index,zip(b,c)))\n",
    "        return dictionary\n",
    "    \n",
    "def get_acc(dictionaryList): #input dictionaries, returns accession \n",
    "        accessions=[]\n",
    "        for dictionary in dictionaryList:\n",
    "            if isHuman(dictionary):\n",
    "                accessions.append(dictionary['GBSeq_primary-accession'])\n",
    "        return accessions\n",
    "        \n",
    "def get_seq(dictionaryList): #input dictionaries, returns sequences\n",
    "        sequences=[]\n",
    "        for dictionary in dictionaryList: \n",
    "            if isHuman(dictionary):  \n",
    "                    sequences.append(dictionary[\"GBSeq_sequence\"]) \n",
    "        return sequences\n",
    "    \n",
    "def get_acc_len_seq(dictionaryList): #input list of dictionaries, returns accession, length, and sequence\n",
    "        name = []\n",
    "        length=[]\n",
    "        sequences=[]\n",
    "        for dictionary in dictionaryList: #d iterates throughout each dictionary. each integer = 1 dictionary\n",
    "            if isHuman(dictionary):  #i becomes a DICTIONARY and NOT an integer, which is why i'm not slicing. changed it to a number. this also means that i is no longer a dictionary, but an INT. \n",
    "                if \"GBSeq_sequence\" in dictionary: #if the TERM is in the dictionary\n",
    "                    name.append(dictionary['GBSeq_primary-accession'])\n",
    "                    length.append(dictionary['GBSeq_length']) # length of each protein \n",
    "                    sequences.append(dictionary[\"GBSeq_sequence\"]) #then add that term to the list of sequences from the dict\n",
    "        return dictCreate(name,length,sequences)\n",
    "\n",
    "        \n",
    "def remove_duplicates(l): #input list, returns list without duplicates\n",
    "        return list(set(l))\n",
    "    \n",
    "def get_longest_isoform(seqList): #input list of sequences from get_seq, returns longest one. \n",
    "        longestIsoform=\"\"\n",
    "        remove_duplicates(seqList)\n",
    "        for seq in seqList: \n",
    "            if len(seq)>len(longestIsoform):\n",
    "                longestIsoform=seq\n",
    "            else:\n",
    "                pass\n",
    "        return longestIsoform\n",
    "\n",
    "\n",
    "def seqIO_fetch_proteins(accList):  #input accession list from get_acc function\n",
    "        listprots=[]\n",
    "        Entrez.email = 'rjliangiogenesis@gmail.com' \n",
    "        remove_duplicates(accList)\n",
    "        for acc in accList:\n",
    "            handle = Entrez.efetch(db='protein', \n",
    "                               rettype='gp', #9.6 of biopython documentation\n",
    "                               retmode='text',  ##can't be xlm. has to be text. \n",
    "                               id=acc) \n",
    "            listprots.append(SeqIO.read(handle,\"genbank\"))\n",
    "        return listprots\n",
    "    \n",
    "    \n",
    "def seqIO_longest_isoform(listseq): #input seqIO list from fetch_all_proteinseq and returns longest isoform. \n",
    "    seqIO_long_iso=\"\"\n",
    "    for seq in listseq: \n",
    "        if len(seq.seq)> len(seqIO_long_iso): \n",
    "                seqIO_long_iso=seq.seq\n",
    "        else:\n",
    "                pass\n",
    "        return seqIO_long_iso\n"
   ]
  },
  {
   "cell_type": "code",
   "execution_count": 39,
   "metadata": {},
   "outputs": [
    {
     "data": {
      "text/plain": [
       "1328"
      ]
     },
     "execution_count": 39,
     "metadata": {},
     "output_type": "execute_result"
    }
   ],
   "source": [
    "#example of class in action: one method. we're calling the last guy. not good. \n",
    "\n",
    "five_protein_ID = get_IDs(\"MAP3K19\",5)\n",
    "fetched_document = fetch_details(five_protein_ID)\n",
    "seq=get_seq(fetched_document)\n",
    "len(get_longest_isoform(seq))"
   ]
  },
  {
   "cell_type": "code",
   "execution_count": 40,
   "metadata": {},
   "outputs": [
    {
     "name": "stdout",
     "output_type": "stream",
     "text": [
      "1328\n"
     ]
    }
   ],
   "source": [
    "#example 2 of class in action: method through seqIO\n",
    "\n",
    "five_protein_IDs = get_IDs(\"MAP3K19\",5)\n",
    "fetched_documents = fetch_details(five_protein_IDs) \n",
    "doc_accessions = get_acc(fetched_documents)\n",
    "seqIO_list = seqIO_fetch_proteins(doc_accessions)\n",
    "longest_isoform = seqIO_longest_isoform(seqIO_list)\n",
    "print(len(longest_isoform))"
   ]
  },
  {
   "cell_type": "code",
   "execution_count": 8,
   "metadata": {},
   "outputs": [
    {
     "data": {
      "text/plain": [
       "[SeqFeature(FeatureLocation(ExactPosition(0), ExactPosition(1328)), type='source'),\n",
       " SeqFeature(FeatureLocation(ExactPosition(0), ExactPosition(1328)), type='gene'),\n",
       " SeqFeature(FeatureLocation(ExactPosition(0), ExactPosition(1328)), type='Protein'),\n",
       " SeqFeature(FeatureLocation(ExactPosition(0), ExactPosition(1328)), type='Region'),\n",
       " SeqFeature(FeatureLocation(ExactPosition(0), ExactPosition(1139)), type='Region'),\n",
       " SeqFeature(FeatureLocation(ExactPosition(78), ExactPosition(191)), type='Region'),\n",
       " SeqFeature(FeatureLocation(ExactPosition(206), ExactPosition(1074)), type='Region'),\n",
       " SeqFeature(FeatureLocation(ExactPosition(206), ExactPosition(1024)), type='Region'),\n",
       " SeqFeature(FeatureLocation(ExactPosition(437), ExactPosition(438)), type='Region'),\n",
       " SeqFeature(FeatureLocation(ExactPosition(499), ExactPosition(500)), type='Region'),\n",
       " SeqFeature(FeatureLocation(ExactPosition(675), ExactPosition(676)), type='Region'),\n",
       " SeqFeature(FeatureLocation(ExactPosition(811), ExactPosition(812)), type='Region'),\n",
       " SeqFeature(FeatureLocation(ExactPosition(1058), ExactPosition(1324)), type='Region'),\n",
       " SeqFeature(FeatureLocation(ExactPosition(1060), ExactPosition(1324)), type='Region'),\n",
       " SeqFeature(FeatureLocation(ExactPosition(1060), ExactPosition(1324)), type='Region'),\n",
       " SeqFeature(FeatureLocation(ExactPosition(1063), ExactPosition(1111)), type='Region'),\n",
       " SeqFeature(CompoundLocation([FeatureLocation(ExactPosition(1066), ExactPosition(1071)), FeatureLocation(ExactPosition(1074), ExactPosition(1075)), FeatureLocation(ExactPosition(1086), ExactPosition(1087)), FeatureLocation(ExactPosition(1088), ExactPosition(1089)), FeatureLocation(ExactPosition(1123), ExactPosition(1124)), FeatureLocation(ExactPosition(1139), ExactPosition(1143)), FeatureLocation(ExactPosition(1145), ExactPosition(1147)), FeatureLocation(ExactPosition(1149), ExactPosition(1150)), FeatureLocation(ExactPosition(1185), ExactPosition(1186)), FeatureLocation(ExactPosition(1187), ExactPosition(1191)), FeatureLocation(ExactPosition(1192), ExactPosition(1193)), FeatureLocation(ExactPosition(1202), ExactPosition(1204)), FeatureLocation(ExactPosition(1206), ExactPosition(1207)), FeatureLocation(ExactPosition(1226), ExactPosition(1230)), FeatureLocation(ExactPosition(1231), ExactPosition(1232)), FeatureLocation(ExactPosition(1258), ExactPosition(1259)), FeatureLocation(ExactPosition(1267), ExactPosition(1268))], 'order'), type='Site', location_operator='order'),\n",
       " SeqFeature(CompoundLocation([FeatureLocation(ExactPosition(1066), ExactPosition(1071)), FeatureLocation(ExactPosition(1074), ExactPosition(1075)), FeatureLocation(ExactPosition(1086), ExactPosition(1087)), FeatureLocation(ExactPosition(1088), ExactPosition(1089)), FeatureLocation(ExactPosition(1123), ExactPosition(1124)), FeatureLocation(ExactPosition(1139), ExactPosition(1143)), FeatureLocation(ExactPosition(1144), ExactPosition(1147)), FeatureLocation(ExactPosition(1149), ExactPosition(1150)), FeatureLocation(ExactPosition(1189), ExactPosition(1191)), FeatureLocation(ExactPosition(1192), ExactPosition(1193)), FeatureLocation(ExactPosition(1202), ExactPosition(1205))], 'order'), type='Site', location_operator='order'),\n",
       " SeqFeature(FeatureLocation(ExactPosition(1066), ExactPosition(1075)), type='Site'),\n",
       " SeqFeature(CompoundLocation([FeatureLocation(ExactPosition(1069), ExactPosition(1071)), FeatureLocation(ExactPosition(1185), ExactPosition(1186)), FeatureLocation(ExactPosition(1187), ExactPosition(1190)), FeatureLocation(ExactPosition(1206), ExactPosition(1207)), FeatureLocation(ExactPosition(1226), ExactPosition(1230)), FeatureLocation(ExactPosition(1231), ExactPosition(1232)), FeatureLocation(ExactPosition(1258), ExactPosition(1259)), FeatureLocation(ExactPosition(1267), ExactPosition(1268))], 'order'), type='Site', location_operator='order'),\n",
       " SeqFeature(FeatureLocation(ExactPosition(1088), ExactPosition(1089)), type='Site'),\n",
       " SeqFeature(FeatureLocation(ExactPosition(1121), ExactPosition(1127)), type='Region'),\n",
       " SeqFeature(FeatureLocation(ExactPosition(1127), ExactPosition(1328)), type='Region'),\n",
       " SeqFeature(FeatureLocation(ExactPosition(1185), ExactPosition(1186)), type='Site'),\n",
       " SeqFeature(CompoundLocation([FeatureLocation(ExactPosition(1202), ExactPosition(1213)), FeatureLocation(ExactPosition(1220), ExactPosition(1232))], 'order'), type='Site', location_operator='order'),\n",
       " SeqFeature(FeatureLocation(ExactPosition(1234), ExactPosition(1235)), type='Region'),\n",
       " SeqFeature(FeatureLocation(ExactPosition(1307), ExactPosition(1328)), type='Region')]"
      ]
     },
     "execution_count": 8,
     "metadata": {},
     "output_type": "execute_result"
    }
   ],
   "source": [
    "seqIO_list[0].features"
   ]
  },
  {
   "cell_type": "code",
   "execution_count": 22,
   "metadata": {
    "collapsed": true
   },
   "outputs": [],
   "source": [
    "#using for-loops and making dicitonaries of longest seuqneces:\n",
    "def get_family_number_articles(query):\n",
    "    dictionary={}\n",
    "    for num in range(25):\n",
    "        if get_number_pubmed_queries(query+str(num))>0:\n",
    "            dictionary.update({query+str(num):get_number_pubmed_queries(query+str(num))})\n",
    "        else:\n",
    "            pass\n",
    "    return dictionary\n",
    "    \n",
    "def get_family_IDs(query,number): #input protein PREFIX and number of queries you want per family member, returns name:ID\n",
    "    dictionary={}\n",
    "    for num in range(25):\n",
    "        dictionary.update({query+str(num):get_IDs(query+str(num),number)})\n",
    "    return dictionary\n",
    "\n",
    "def fetch_family_details(ID_dictionary): #input result from get_family_IDs, returns dictionary (name:dictionaries) of dictionaries(efetch)\n",
    "    details={}\n",
    "    for name,IDs in ID_dictionary.items():\n",
    "        if len(IDs)>0:\n",
    "            details.update({name:fetch_details(IDs)})\n",
    "        else:\n",
    "            pass\n",
    "    return details\n",
    "                           \n",
    "def get_family_acc(article_dictionary): #input fetch_family_details result and returns dict of name:accessions list\n",
    "    fam_accessions={}\n",
    "    for name,articles in article_dictionary.items():\n",
    "        fam_accessions.update({name:get_acc(articles)})\n",
    "    return fam_accessions\n",
    "\n",
    "    \n",
    "def seqIO_fetch_family(accession_dictionary): #input get_family_acc and returns dict of name: seqIO list\n",
    "    fam_sequences={}\n",
    "    for name,accessions in accession_dictionary.items():\n",
    "        fam_sequences.update({name:seqIO_fetch_proteins(accessions)})\n",
    "    return fam_sequences\n",
    "    \n",
    "def seqIO_longest_family(seqIO_dictionary): #input seqIO_fetch_family results and retursn dict of name: longest seqIO\n",
    "    fam_longseq={}\n",
    "    for name,listseq in seqIO_dictionary.items():\n",
    "        fam_longseq.update({name:seqIO_longest_isoform(listseq)})\n",
    "    return fam_longseq\n",
    "    \n",
    "\n",
    "    \n",
    "def get_family_seq(article_dictionary): #input fetch_family_details result and returns dict of name: sequence list\n",
    "    fam_seq={}\n",
    "    for name,articles in article_dictionary.items():\n",
    "        fam_seq.update({name:get_seq(articles)})\n",
    "    return fam_seq\n",
    "\n",
    "def get_family_longest(seq_dictionary): #input get_family_seq results and returns dict of name: longest CDS\n",
    "    fam_longest={}\n",
    "    for name,seqList in seq_dictionary.items():\n",
    "        fam_longest.update({name:get_longest_isoform(seqList)})\n",
    "    return fam_longest\n",
    "    "
   ]
  },
  {
   "cell_type": "code",
   "execution_count": 23,
   "metadata": {},
   "outputs": [
    {
     "data": {
      "text/plain": [
       "{'MAP3K1': 801,\n",
       " 'MAP3K10': 49,\n",
       " 'MAP3K11': 26,\n",
       " 'MAP3K12': 21,\n",
       " 'MAP3K13': 20,\n",
       " 'MAP3K14': 57,\n",
       " 'MAP3K15': 7,\n",
       " 'MAP3K16': 1,\n",
       " 'MAP3K17': 2,\n",
       " 'MAP3K18': 1,\n",
       " 'MAP3K19': 3,\n",
       " 'MAP3K2': 88,\n",
       " 'MAP3K20': 1,\n",
       " 'MAP3K3': 117,\n",
       " 'MAP3K4': 66,\n",
       " 'MAP3K5': 514,\n",
       " 'MAP3K6': 13,\n",
       " 'MAP3K7': 117,\n",
       " 'MAP3K8': 287,\n",
       " 'MAP3K9': 34}"
      ]
     },
     "execution_count": 23,
     "metadata": {},
     "output_type": "execute_result"
    }
   ],
   "source": [
    "get_family_number_articles(\"MAP3K\")"
   ]
  },
  {
   "cell_type": "code",
   "execution_count": 240,
   "metadata": {},
   "outputs": [
    {
     "name": "stdout",
     "output_type": "stream",
     "text": [
      "MAP3K1 66\n",
      "MAP3K2 234\n",
      "MAP3K3 90\n",
      "MAP3K4 1607\n",
      "MAP3K5 1374\n",
      "MAP3K6 797\n",
      "MAP3K7 579\n",
      "MAP3K8 467\n",
      "MAP3K9 1104\n",
      "MAP3K10 954\n",
      "MAP3K11 847\n",
      "MAP3K12 567\n",
      "MAP3K13 656\n",
      "MAP3K14 947\n",
      "MAP3K15 1313\n",
      "MAP3K16 1001\n",
      "MAP3K17 1235\n",
      "MAP3K18 898\n",
      "MAP3K19 1328\n",
      "MAP3K20 800\n",
      "MAP3K21 1036\n"
     ]
    }
   ],
   "source": [
    "#example of method one. doesn't really work. \n",
    "family_IDs=get_family_IDs(\"MAP3K\",5) #use a larger number to be super sure\n",
    "family_details=fetch_family_details(family_IDs)\n",
    "family_acc=get_family_acc(family_details)\n",
    "family_seqIO_list=seqIO_fetch_family(family_acc)\n",
    "family_longest_isoform=seqIO_longest_family(family_seqIO_list)\n",
    "family_longest_isoform\n",
    "\n",
    "for a,b in family_longest_isoform.items():\n",
    "    print(a,len(b))\n"
   ]
  },
  {
   "cell_type": "code",
   "execution_count": 38,
   "metadata": {},
   "outputs": [
    {
     "name": "stdout",
     "output_type": "stream",
     "text": [
      "MAP3K1 1512\n",
      "MAP3K2 619\n",
      "MAP3K3 657\n",
      "MAP3K4 1608\n",
      "MAP3K5 1374\n",
      "MAP3K6 1288\n",
      "MAP3K7 606\n",
      "MAP3K8 467\n",
      "MAP3K9 1118\n",
      "MAP3K10 962\n",
      "MAP3K11 847\n",
      "MAP3K12 892\n",
      "MAP3K13 966\n",
      "MAP3K14 947\n",
      "MAP3K15 1313\n",
      "MAP3K16 1001\n",
      "MAP3K17 1241\n",
      "MAP3K18 907\n",
      "MAP3K19 1328\n",
      "MAP3K20 800\n",
      "MAP3K21 1036\n"
     ]
    }
   ],
   "source": [
    "#example of method two: works well. works better the more queries you start initially with. \n",
    "family_IDs=get_family_IDs(\"MAP3K\",15) #use a larger number to be super sure\n",
    "family_details=fetch_family_details(family_IDs)\n",
    "family_seq=get_family_seq(family_details)\n",
    "family_longest=get_family_longest(family_seq)\n",
    "for a,b in family_longest.items():\n",
    "    print(a,len(b))"
   ]
  },
  {
   "cell_type": "markdown",
   "metadata": {},
   "source": [
    "# HOW DO I JUST GET A SPECIFIC DOMAIN? FROM BLAST DATABASE? THIS WILL BE THE NEXT STEP.  OR MAYBE USE THE SPARCLE bio.sparcle http://mscbio2025.csb.pitt.edu/notes/biopython.slides.html#/15"
   ]
  },
  {
   "cell_type": "markdown",
   "metadata": {},
   "source": [
    "USE this: https://warwick.ac.uk/fac/sci/moac/people/students/peter_cock/python/rpsblast/\n",
    "--this should blast out the specific domains of each proteins sequence \n",
    "\n",
    "#can always call something on linux command line with python... play with? \n",
    "\n",
    "#try playing with RPSblast... download PSSM database\n",
    "-use web api cdd_help.shtml \n",
    "#try playing with it. go on blast--.. standalone blast --> go to databases, download cdd_delta.targ.gz\n",
    "cdd for delta blast?? \n",
    "\n",
    "--need to download RPSblast database... structure/cdd/cdd.shtml. \n",
    "cdd.tar.gz is all the pssms for blast search. \n",
    "building a custom datbase, read the readme file. outlines how to build a custom database. \n",
    "\n"
   ]
  }
 ],
 "metadata": {
  "kernelspec": {
   "display_name": "Python 3",
   "language": "python",
   "name": "python3"
  },
  "language_info": {
   "codemirror_mode": {
    "name": "ipython",
    "version": 3
   },
   "file_extension": ".py",
   "mimetype": "text/x-python",
   "name": "python",
   "nbconvert_exporter": "python",
   "pygments_lexer": "ipython3",
   "version": "3.6.4"
  }
 },
 "nbformat": 4,
 "nbformat_minor": 2
}
